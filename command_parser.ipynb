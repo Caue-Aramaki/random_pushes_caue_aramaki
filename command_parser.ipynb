{
  "nbformat": 4,
  "nbformat_minor": 0,
  "metadata": {
    "colab": {
      "name": "command_parser",
      "provenance": [],
      "collapsed_sections": [],
      "toc_visible": true,
      "authorship_tag": "ABX9TyOYILRPIyB4YtiP1ypr9NJ7",
      "include_colab_link": true
    },
    "kernelspec": {
      "name": "python3",
      "display_name": "Python 3"
    },
    "language_info": {
      "name": "python"
    }
  },
  "cells": [
    {
      "cell_type": "markdown",
      "metadata": {
        "id": "view-in-github",
        "colab_type": "text"
      },
      "source": [
        "<a href=\"https://colab.research.google.com/github/Caue-Aramaki/random_pushes_caue_aramaki/blob/main/command_parser.ipynb\" target=\"_parent\"><img src=\"https://colab.research.google.com/assets/colab-badge.svg\" alt=\"Open In Colab\"/></a>"
      ]
    },
    {
      "cell_type": "markdown",
      "metadata": {
        "id": "EvIYch8vs9gE"
      },
      "source": [
        "# **Parsing commans lines and returning the computed values**"
      ]
    },
    {
      "cell_type": "code",
      "metadata": {
        "id": "mRzBHLCxYOPL"
      },
      "source": [
        "def convert_num_from_x_to_y(num, base_x=10, base_y=2):\n",
        "  try:\n",
        "    import math\n",
        "    import numpy as np\n",
        "\n",
        "    base_x = int(base_x)\n",
        "    base_y = int(base_y)\n",
        "\n",
        "    x_bases = str(num)\n",
        "    decimal_value = 0\n",
        "    x_len = len(x_bases)\n",
        "\n",
        "    for digit_index in range(0, x_len):\n",
        "      decimal_value += int(x_bases[digit_index]) * (base_x ** (x_len - digit_index - 1))\n",
        "    \n",
        "    value = decimal_value\n",
        "    converted = \"\"\n",
        "\n",
        "    exp = int(np.round(math.log(value, base_y)))\n",
        "\n",
        "    for exp_index in range(0, exp + 1):\n",
        "\n",
        "      temp = base_y ** (exp - exp_index)\n",
        "      \n",
        "      for coef_index in range(0, base_y + 1):\n",
        "\n",
        "        if (temp * coef_index) > value:\n",
        "          value = value - temp * (coef_index - 1)\n",
        "          converted += str(coef_index - 1)\n",
        "          break\n",
        "    return int(converted)\n",
        "  except Exception as problem:\n",
        "    return f\"Error: {str(problem)}\""
      ],
      "execution_count": null,
      "outputs": []
    },
    {
      "cell_type": "code",
      "metadata": {
        "colab": {
          "base_uri": "https://localhost:8080/"
        },
        "id": "u38PDwNbX3sY",
        "outputId": "4a15340c-cd0f-4ba6-d096-1dbe7247ea9c"
      },
      "source": [
        "# we want to create nested functions within a line.\n",
        "# let us define some functions:\n",
        "def multiply_three(input_1=None, input_2=None, input_3=None, input_list=None):\n",
        "  try:\n",
        "    if input_1 != None:\n",
        "      return int(input_1) * int(input_2) * int(input_3)\n",
        "    else:\n",
        "      return int(input_list[0]) * int(input_list[1]) * int(input_list[2])\n",
        "  except Exception as problem:\n",
        "    return f\"in multiply_three(): {str(problem)}\"\n",
        "\n",
        "def add_one(input=None, input_list=None):\n",
        "  try:\n",
        "    if input != None:\n",
        "      return int(input) + 1\n",
        "    else:  \n",
        "      return int(input_list[0]) + 1\n",
        "  except Exception as problem:\n",
        "    return f\"in add_one(): {str(problem)}\"\n",
        "\n",
        "def linear(input=None, input_list=None):\n",
        "  try:\n",
        "    if input != None:\n",
        "      return int(input)\n",
        "    else:  \n",
        "      return int(input_list[0])\n",
        "  except Exception as problem:\n",
        "    return f\"in add_one(): {str(problem)}\"\n",
        "\n",
        "# let us create a prototype sentence\n",
        "sentence = \"1, 2, multiply_three(1, 2, multiply_three(2, 7, 1)), add_one(1)\"\n",
        "\n",
        "# the functions work. notice that comma split gives us the number of total parameters of our nested commands\n",
        "len(sentence.split(',')), multiply_three(1, 2, 3), add_one(\"a\")"
      ],
      "execution_count": null,
      "outputs": [
        {
          "output_type": "execute_result",
          "data": {
            "text/plain": [
              "(8, 6, \"in add_one(): invalid literal for int() with base 10: 'a'\")"
            ]
          },
          "metadata": {
            "tags": []
          },
          "execution_count": 35
        }
      ]
    },
    {
      "cell_type": "code",
      "metadata": {
        "id": "tgui6FfTLCzl"
      },
      "source": [
        "def parse_functions(input_string):\n",
        "  try:\n",
        "    if input_string.find(\",\") == -1 and input_string.find(\"(\") == -1:\n",
        "      return [input_string]\n",
        "    else:\n",
        "      # We need to separate the commas from 1, 3, add(1, 3), 2, add(3), but no the ones inside parenthesis!!\n",
        "      new_string = input_string.replace(\" \", \"\") #get rid of spaces\n",
        "      temp_string = \"\"\n",
        "      parenthesis_counter = 0\n",
        "\n",
        "      for index in range(len(new_string)): # lets get rid of the commas outside the func\n",
        "        if new_string[index] == \"(\":\n",
        "          parenthesis_counter += 1\n",
        "        if new_string[index] == \")\":\n",
        "          parenthesis_counter -= 1\n",
        "        \n",
        "        if parenthesis_counter == 0 and new_string[index] == \",\": # if its a comma outside the func, replace it with ;\n",
        "          temp_string += \";\"\n",
        "        else:\n",
        "          temp_string += new_string[index]\n",
        "      # end\n",
        "      temp_list =  temp_string.split(\";\")\n",
        "\n",
        "      new_list = []\n",
        "      new_string = \"\"\n",
        "\n",
        "      for string in temp_list: # for every string in the new list, lets extract the parameters on each of them\n",
        "\n",
        "        if string.find(\"(\") == -1:\n",
        "          output_list = string\n",
        "          new_list.append(output_list)\n",
        "        else:\n",
        "          output_list = []\n",
        "          count = 0\n",
        "          temp = \"\"\n",
        "          detect_function = \"\"\n",
        "          temp_function = \"\"\n",
        "\n",
        "          for character_index in range(0, len(string)): # for each string lets iterate and extract features\n",
        "            if count == 0:\n",
        "              detect_function += string[character_index]\n",
        "            if string[character_index] == \")\":\n",
        "              count -= 1\n",
        "            if count > 0:\n",
        "              temp += string[character_index]\n",
        "            else:\n",
        "              if len(temp) > 0:\n",
        "                output_list.append([temp_function.replace(\"(\", \"\"), temp]) # add the params to the list\n",
        "                temp = \"\"\n",
        "                temp_function = \"\"\n",
        "            if string[character_index] == \"(\":\n",
        "              count += 1\n",
        "            if count == 1:\n",
        "              temp_function += detect_function\n",
        "              detect_function = \"\"\n",
        "          # end of loop\n",
        "          new_list.append(output_list[0])\n",
        "      # end of loop\n",
        "\n",
        "      output_list = new_list\n",
        "\n",
        "      for index in range(0, len(new_list)):\n",
        "        if type(new_list[index]) == list:\n",
        "          output_list[index][1] = parse_functions(new_list[index][1])\n",
        "\n",
        "      return output_list\n",
        "\n",
        "  except Exception as problem:\n",
        "    return problem"
      ],
      "execution_count": null,
      "outputs": []
    },
    {
      "cell_type": "code",
      "metadata": {
        "colab": {
          "base_uri": "https://localhost:8080/"
        },
        "id": "T0N1JrB7boxl",
        "outputId": "eca4c526-9562-4326-c8ea-dc1f7eee7e37"
      },
      "source": [
        "print(parse_functions(sentence.replace(\"$ \", \"\")))"
      ],
      "execution_count": null,
      "outputs": [
        {
          "output_type": "stream",
          "text": [
            "['1', '2', ['multiply_three', ['1', '2', ['multiply_three', ['2', '7', '1']]]], ['add_one', ['1']]]\n"
          ],
          "name": "stdout"
        }
      ]
    },
    {
      "cell_type": "code",
      "metadata": {
        "colab": {
          "base_uri": "https://localhost:8080/"
        },
        "id": "2t0zp6NRdLb1",
        "outputId": "9835b877-db7c-492a-ea42-2022d4a9a23d"
      },
      "source": [
        "# that we have a parsed tree of functions, we need to output a list of results.\n",
        "\n",
        "# [1, 2, multiply_three(1, 2, add_one(2))] needs to be the list [1, 2, 6]\n",
        "\n",
        "parsed_tree = parse_functions(sentence.replace(\"$ \", \"\")) # generate our test tree\n",
        "\n",
        "# for this, we need to create a key list. for each string function,\n",
        "# we will have the respective function object.\n",
        "\n",
        "key_list = [\n",
        "            [\"multiply_three\", multiply_three],\n",
        "            [\"add_one\", add_one],\n",
        "            [\"linear\", linear]\n",
        "]\n",
        "\n",
        "def prototype_find_command(input_command, parameter_list):\n",
        "  try:\n",
        "    found = False\n",
        "\n",
        "    for bucket in key_list:\n",
        "      if bucket[0] == input_command:\n",
        "        found = bucket[1]\n",
        "    \n",
        "    return found(input_list=parameter_list)\n",
        "  \n",
        "  except Exception as problem:\n",
        "    return \"Error in find_command: \" + str(problem)\n",
        "\n",
        "# with this function, we can do find_command(command, parameter_list)\n",
        "prototype_find_command(\"add_one\", [1]), prototype_find_command(\"multiply_three\", [1, 2, 3])\n",
        "# this allows for name changing without much complications,\n",
        "# while also limiting the user access to script only functions.\n",
        "\n",
        "# it can be used normally with user friendly parameters, but also\n",
        "# provide the list flexibility for our current usage."
      ],
      "execution_count": null,
      "outputs": [
        {
          "output_type": "execute_result",
          "data": {
            "text/plain": [
              "(2, 6)"
            ]
          },
          "metadata": {
            "tags": []
          },
          "execution_count": 50
        }
      ]
    },
    {
      "cell_type": "code",
      "metadata": {
        "colab": {
          "base_uri": "https://localhost:8080/"
        },
        "id": "3tInYEgQm5c0",
        "outputId": "05b6819b-272c-4909-c2c9-5bc747411217"
      },
      "source": [
        "# now, on to our recursion tree!\n",
        "# recall that each node of our tree is on the following format:\n",
        "\n",
        "# node = [scalars, [\"function\", parameter_list]]\n",
        "\n",
        "# what we currently need to do is: node = [scalars, find_command(\"function\", parameter_list)].\n",
        "# only the above statement is not enough, because we do not call find_command\n",
        "# enough times for a recursion. we need to check if there are commands inside \n",
        "# the parameter list, so that we can call them.\n",
        "\n",
        "#\n",
        "\n",
        "def find_command(input_command, parameter_list):\n",
        "  try:\n",
        "    found = False\n",
        "\n",
        "    for bucket in key_list:\n",
        "      if bucket[0] == input_command:\n",
        "        found = bucket[1]\n",
        "    # we found our command, let us check if the parameter list has functions inside them.\n",
        "\n",
        "    scalar_list = [] # we will use this as parameters instead, and pass values to it.\n",
        "\n",
        "    for element in parameter_list:\n",
        "      if type(element) == list:\n",
        "        scalar_list.append(find_command(element[0], element[1])) # this is where our recursion is\n",
        "      else:\n",
        "        scalar_list.append(element)\n",
        "\n",
        "    return found(input_list=scalar_list)\n",
        "  \n",
        "  except Exception as problem:\n",
        "    return \"Error in find_command: \" + str(problem)\n",
        "# end\n",
        "\n",
        "# works fine with no functions inside them\n",
        "print(\"Non nested:\")\n",
        "print(find_command(\"add_one\", [1]), find_command(\"multiply_three\", [1, 2, 3]))\n",
        "\n",
        "# Works fine with nested commands as well!!\n",
        "print(\"Nested:\")\n",
        "print(find_command(\"multiply_three\", [1, 2, [\"add_one\", [2]]]))\n",
        "print(find_command(\"add_one\", [[\"add_one\", [1]]]))"
      ],
      "execution_count": null,
      "outputs": [
        {
          "output_type": "stream",
          "text": [
            "Non nested:\n",
            "2 6\n",
            "Nested:\n",
            "6\n",
            "3\n"
          ],
          "name": "stdout"
        }
      ]
    },
    {
      "cell_type": "code",
      "metadata": {
        "colab": {
          "base_uri": "https://localhost:8080/"
        },
        "id": "A7RiS5M7rCe1",
        "outputId": "9f9a3aef-5361-47b3-b94a-c50fbb3d7765"
      },
      "source": [
        "# remember our parsing takes in a string and returns a list, which is a node.\n",
        "# hence, we can not do find_command(parse_functions(input))\n",
        "\n",
        "# this is our list. we a also want a list as output.\n",
        "print(parsed_tree)\n",
        "\n",
        "# we will use the linear() command to assist us\n",
        "\n",
        "result_list = []\n",
        "\n",
        "for item in parsed_tree:\n",
        "  if type(item) == list:\n",
        "    result_list.append(find_command(\"linear\", [item]))\n",
        "  else:\n",
        "    result_list.append(int(item))\n",
        "\n",
        "# the magic\n",
        "print(result_list)"
      ],
      "execution_count": null,
      "outputs": [
        {
          "output_type": "stream",
          "text": [
            "['1', '2', ['multiply_three', ['1', '2', ['multiply_three', ['2', '7', '1']]]], ['add_one', ['1']]]\n",
            "[1, 2, 28, 2]\n"
          ],
          "name": "stdout"
        }
      ]
    },
    {
      "cell_type": "code",
      "metadata": {
        "colab": {
          "base_uri": "https://localhost:8080/"
        },
        "id": "YXJzN0IQGxwu",
        "outputId": "20478ad1-473b-4037-af4b-7b44d5444b60"
      },
      "source": [
        "def recurse_evalue(command_line):\n",
        "  parsed_tree = parse_functions(str(command_line))\n",
        "\n",
        "  result_list = []\n",
        "  for item in parsed_tree:\n",
        "    if type(item) == list:\n",
        "      result_list.append(find_command(\"linear\", [item]))\n",
        "    else:\n",
        "      result_list.append(int(item))\n",
        "  return result_list\n",
        "\n",
        "recurse_evalue(\"add_one(1)\")"
      ],
      "execution_count": null,
      "outputs": [
        {
          "output_type": "execute_result",
          "data": {
            "text/plain": [
              "[2]"
            ]
          },
          "metadata": {
            "tags": []
          },
          "execution_count": 59
        }
      ]
    }
  ]
}