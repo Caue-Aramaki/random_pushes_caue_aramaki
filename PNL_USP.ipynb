{
  "nbformat": 4,
  "nbformat_minor": 0,
  "metadata": {
    "colab": {
      "name": "PNL USP.ipynb",
      "provenance": [],
      "authorship_tag": "ABX9TyNr90CuKRqlKUC0Q4Y4vImJ",
      "include_colab_link": true
    },
    "kernelspec": {
      "name": "python3",
      "display_name": "Python 3"
    },
    "language_info": {
      "name": "python"
    }
  },
  "cells": [
    {
      "cell_type": "markdown",
      "metadata": {
        "id": "view-in-github",
        "colab_type": "text"
      },
      "source": [
        "<a href=\"https://colab.research.google.com/github/Caue-Aramaki/random_pushes_caue_aramaki/blob/main/PNL_USP.ipynb\" target=\"_parent\"><img src=\"https://colab.research.google.com/assets/colab-badge.svg\" alt=\"Open In Colab\"/></a>"
      ]
    },
    {
      "cell_type": "code",
      "metadata": {
        "colab": {
          "base_uri": "https://localhost:8080/"
        },
        "id": "orLHUj-IjKNH",
        "outputId": "05244fd1-d897-4cf1-874a-f54cc6836489"
      },
      "source": [
        "name = \"Broadway & Cia\"\n",
        "print(name)"
      ],
      "execution_count": 5,
      "outputs": [
        {
          "output_type": "stream",
          "name": "stdout",
          "text": [
            "Broadway & Cia\n"
          ]
        }
      ]
    },
    {
      "cell_type": "code",
      "metadata": {
        "id": "ae5UanPMjTFM"
      },
      "source": [
        "type(name)"
      ],
      "execution_count": null,
      "outputs": []
    },
    {
      "cell_type": "code",
      "metadata": {
        "colab": {
          "base_uri": "https://localhost:8080/"
        },
        "id": "lXViqeiPmOuf",
        "outputId": "5bfa42fe-47ce-4a74-a493-fa266f8c0e37"
      },
      "source": [
        "for i in range(0, 5):\n",
        "  name += str(i)\n",
        "\n",
        "print(name)"
      ],
      "execution_count": 6,
      "outputs": [
        {
          "output_type": "stream",
          "name": "stdout",
          "text": [
            "Broadway & Cia01234\n"
          ]
        }
      ]
    },
    {
      "cell_type": "code",
      "metadata": {
        "colab": {
          "base_uri": "https://localhost:8080/"
        },
        "id": "ae5QOUDP5iIL",
        "outputId": "cf312b10-ac94-4581-9575-6f70e4689b6f"
      },
      "source": [
        "lista = [0,1,2,3,4,5,6,7,8,9,10]\n",
        "print(lista)\n",
        "lista.reverse()\n",
        "print(lista)\n",
        "lista = lista[1::2]\n",
        "print(lista)"
      ],
      "execution_count": 19,
      "outputs": [
        {
          "output_type": "stream",
          "name": "stdout",
          "text": [
            "[0, 1, 2, 3, 4, 5, 6, 7, 8, 9, 10]\n",
            "[10, 9, 8, 7, 6, 5, 4, 3, 2, 1, 0]\n",
            "[9, 7, 5, 3, 1]\n"
          ]
        }
      ]
    }
  ]
}