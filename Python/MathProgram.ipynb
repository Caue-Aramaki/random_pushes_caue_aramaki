{
 "cells": [
  {
   "cell_type": "code",
   "execution_count": 10,
   "metadata": {},
   "outputs": [
    {
     "name": "stdout",
     "output_type": "stream",
     "text": [
      "[('red', 'red', 'red', 'blue'), ('red', 'red', 'blue', 'red'), ('red', 'red', 'red', 'blue'), ('red', 'red', 'blue', 'red'), ('red', 'blue', 'red', 'red'), ('red', 'blue', 'red', 'red'), ('red', 'red', 'red', 'blue'), ('red', 'red', 'blue', 'red'), ('red', 'red', 'red', 'blue'), ('red', 'red', 'blue', 'red'), ('red', 'blue', 'red', 'red'), ('red', 'blue', 'red', 'red'), ('red', 'red', 'red', 'blue'), ('red', 'red', 'blue', 'red'), ('red', 'red', 'red', 'blue'), ('red', 'red', 'blue', 'red'), ('red', 'blue', 'red', 'red'), ('red', 'blue', 'red', 'red'), ('blue', 'red', 'red', 'red'), ('blue', 'red', 'red', 'red'), ('blue', 'red', 'red', 'red'), ('blue', 'red', 'red', 'red'), ('blue', 'red', 'red', 'red'), ('blue', 'red', 'red', 'red')]\n"
     ]
    }
   ],
   "source": [
    "baglist = [\"red\",\"red\",\"red\",\"blue\"]\n",
    "\n",
    "import itertools\n",
    "\n",
    "permutations = list(itertools.permutations(baglist))\n",
    "print(permutations)"
   ]
  },
  {
   "cell_type": "code",
   "execution_count": 20,
   "metadata": {},
   "outputs": [],
   "source": [
    "def fvec(foo, x=[]):\n",
    "    r = []\n",
    "    for i in x:\n",
    "        r.append(foo(i))\n",
    "    return r"
   ]
  },
  {
   "cell_type": "code",
   "execution_count": 9,
   "metadata": {},
   "outputs": [],
   "source": [
    "def myfunc(x =[]):\n",
    "    return [4-x[1],(3*x[0])%5]"
   ]
  },
  {
   "cell_type": "code",
   "execution_count": 22,
   "metadata": {},
   "outputs": [
    {
     "name": "stdout",
     "output_type": "stream",
     "text": [
      "[2, 3] 0\n",
      "[1, 1] 1\n",
      "[3, 3] 2\n",
      "[1, 4] 3\n",
      "[0, 3] 4\n",
      "[1, 0] 5\n",
      "[4, 3] 6\n",
      "[1, 2] 7\n",
      "[2, 3] 8\n"
     ]
    }
   ],
   "source": [
    "x = [2,3]\n",
    "print(x, 0)\n",
    "for i in range(1, 9):\n",
    "    x = myfunc(x)\n",
    "    print(x, i)"
   ]
  },
  {
   "cell_type": "code",
   "execution_count": 21,
   "metadata": {},
   "outputs": [
    {
     "data": {
      "text/plain": [
       "[[4, 3], [4, 0]]"
      ]
     },
     "execution_count": 21,
     "metadata": {},
     "output_type": "execute_result"
    }
   ],
   "source": [
    "fvec(myfunc, [[1,0],[0,0]])"
   ]
  },
  {
   "cell_type": "code",
   "execution_count": 208,
   "metadata": {},
   "outputs": [],
   "source": [
    "def perm(x =[], p=[]):\n",
    "    permutationlist = []\n",
    "    for item in p:\n",
    "        permutationlist.append(x[item])\n",
    "    return permutationlist\n",
    " \n",
    "def compose(x, f= []):\n",
    "    if len(f) == 0:\n",
    "        return x\n",
    "    else:\n",
    "        return compose(perm(x, f[0]), f[1:])\n",
    "\n",
    "def inv(x=[]):\n",
    "    mapping_list = []\n",
    "    for iterator in range(0, len(x)):\n",
    "        mapping_list.append([x[iterator], iterator])\n",
    "    mapping_list = [item[1] for item in sorted(mapping_list, key=lambda k: k[0])]\n",
    "    return mapping_list \n",
    "\n",
    "def sgn(values):\n",
    "    # Simple Shell sort; while O(N^2), we only deal with at most 4 values \n",
    "    values = list(values)\n",
    "    N = len(values)\n",
    "    num_swaps = 0\n",
    "    for i in range(N-1):\n",
    "        for j in range(i+1, N):\n",
    "            if values[i] > values[j]:\n",
    "                values[i], values[j] = values[j], values[i]\n",
    "                num_swaps += 1\n",
    "    return (-1)**(num_swaps % 2)\n",
    "\n",
    "def to_cycles(perm):\n",
    "    pi = {i+1: perm[i] for i in range(len(perm))}\n",
    "    cycles = []\n",
    "\n",
    "    while pi:\n",
    "        elem0 = next(iter(pi)) # arbitrary starting element\n",
    "        this_elem = pi[elem0]\n",
    "        next_item = pi[this_elem]\n",
    "\n",
    "        cycle = []\n",
    "        while True:\n",
    "            cycle.append(this_elem)\n",
    "            del pi[this_elem]\n",
    "            this_elem = next_item\n",
    "            if next_item in pi:\n",
    "                next_item = pi[next_item]\n",
    "            else:\n",
    "                break\n",
    "        \n",
    "        cycle.insert(0,cycle.pop(len(cycle)-1))\n",
    "\n",
    "        if len(cycle) > 1:\n",
    "            cycles.append(cycle)\n",
    "\n",
    "    return cycles"
   ]
  },
  {
   "cell_type": "code",
   "execution_count": 210,
   "metadata": {},
   "outputs": [
    {
     "name": "stdout",
     "output_type": "stream",
     "text": [
      "[[[1, 2, 3, 4]], [[1, 2]], [[1, 5, 4, 3]], [[1, 3, 5, 4]]]\n",
      "26\n"
     ]
    }
   ],
   "source": [
    "sigma1 = [1, 2, 3, 4, 0]\n",
    "tau1 =  [4, 1, 2, 3, 0]\n",
    "\n",
    "sigma2 = [1, 2, 5, 3, 4, 0]\n",
    "tau2 =  [5, 4, 1, 2, 3, 0]\n",
    "\n",
    "\n",
    "\n",
    "print([to_cycles(compose([1,2,3,4,5],[tau1, sigma1])),\n",
    " to_cycles(compose([1,2,3,4,5],[sigma1,tau1,inv(sigma1)])),\n",
    "\n",
    " to_cycles(compose([1,2,3,4,5,6],[tau2, sigma2])),\n",
    " to_cycles(compose([1,2,3,4,5,6],[sigma2, sigma2, tau2, inv(sigma2)]))\n",
    " ])\n",
    "\n",
    "import itertools\n",
    "zero_to_n = [0,1,2,3,4]\n",
    "\n",
    "allperms = list(itertools.permutations(zero_to_n))\n",
    "inversible = []\n",
    "\n",
    "for p in allperms:\n",
    "    if compose(zero_to_n,[list(p),list(p)]) == zero_to_n:\n",
    "        inversible.append(list(p))\n",
    "\n",
    "print(len(inversible))"
   ]
  }
 ],
 "metadata": {
  "kernelspec": {
   "display_name": "Python 3",
   "language": "python",
   "name": "python3"
  },
  "language_info": {
   "codemirror_mode": {
    "name": "ipython",
    "version": 3
   },
   "file_extension": ".py",
   "mimetype": "text/x-python",
   "name": "python",
   "nbconvert_exporter": "python",
   "pygments_lexer": "ipython3",
   "version": "3.11.3"
  },
  "orig_nbformat": 4
 },
 "nbformat": 4,
 "nbformat_minor": 2
}
