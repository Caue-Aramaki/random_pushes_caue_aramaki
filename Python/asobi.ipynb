{
 "cells": [
  {
   "cell_type": "code",
   "execution_count": 58,
   "metadata": {},
   "outputs": [],
   "source": [
    "class day:\n",
    "\n",
    "    weekday = None\n",
    "    calendar = None\n",
    "    year = None\n",
    "    avaliable = None\n",
    "    label = None\n",
    "\n",
    "\n",
    "    def __init__(self, weekday = None, calendar = None, year = None, available = False, label = None):\n",
    "\n",
    "        week = {\n",
    "            0:\"Sunday\", 1:\"Monday\", 2:\"Tuesday\", 3:\"Wednesday\", 4:\"Thursday\", 5:\"Sextoyy\", 6:\"Sabat\",\n",
    "            \"Sunday\":\"Sunday\", \"Monday\":\"Monday\", \"Tuesday\":\"Tuesday\", \"Wednesday\":\"Wednesday\", \"Thursday\":\"Thursday\", \"Friday\":\"Sextoyy\", \"Saturday\":\"Sabat\"\n",
    "        }\n",
    "\n",
    "        self.weekday = week.get(weekday)\n",
    "        self.calendar = calendar\n",
    "        self.year = year\n",
    "        self.avaliable = False\n",
    "        self.label = label\n",
    "\n",
    "    def __str__(self):\n",
    "        return f'Label {self.label} Weekday {self.weekday} Availability {self.avaliable}'\n",
    "\n",
    "    def __repr__(self):\n",
    "        return f'Day(\\'{self.label}\\', {self.weekday}, {self.avaliable})'\n",
    "\n",
    "\n",
    "class weekTable:\n",
    "\n",
    "    dayList = []\n",
    "    start = None\n",
    "    end = None\n",
    "    label = None\n",
    "\n",
    "\n",
    "    def __init__(self, days = [], start = None, end = None, label=None):\n",
    "        self.dayList = days\n",
    "        self.start = start\n",
    "        self.end = end\n",
    "        self.label = label\n",
    "    \n",
    "    def __str__(self):\n",
    "        return f'Label {self.label} Starts {self.start} Ends {self.end}'\n",
    "\n",
    "    def __repr__(self):\n",
    "        return f'WeekTable(\\'{self.label}\\', {self.start}, {self.end})'\n",
    "    \n",
    "\n",
    "\n",
    "    def setUpNew(self):\n",
    "        self.dayList = [[day(available=False, label=str(hour_iterator)+\"H\", weekday=weekday_iterator) for hour_iterator in range(0,23)] for weekday_iterator in range(0,6)]\n",
    "\n",
    "\n",
    "class person:\n",
    "\n",
    "    tables = []\n",
    "    uniqueEvents = []\n",
    "    geoPlace = None\n",
    "    name = None\n",
    "    age = None\n",
    "\n",
    "\n",
    "    def __init__(self, tables = [], unique = None, geo = None, name = None, age=None):\n",
    "        self.tables = tables\n",
    "        self.uniqueEvents = unique\n",
    "        self.geoPlace = geo\n",
    "        self.name = name\n",
    "        self.age = age\n",
    "\n",
    "    def __str__(self):\n",
    "        return f'Name {self.name} Location {self.geoPlace} Age {self.age}'\n",
    "\n",
    "    def __repr__(self):\n",
    "        return f'Cumpadre(\\'{self.name}\\', {self.geoPlace}, {self.age}) with main ({self.tables}) & unique at ({self.uniqueEvents})'\n",
    "\n",
    "\n",
    "\n",
    "    def addNewTable(self, start=None, end=None, label=None):\n",
    "        newWeekTable = weekTable(start=start, end=end, label=label)\n",
    "        weekTable.setUpNew(newWeekTable)\n",
    "        self.tables.append(newWeekTable)\n",
    "\n",
    "    def clearTables(self):\n",
    "        self.tables = []"
   ]
  },
  {
   "cell_type": "code",
   "execution_count": 66,
   "metadata": {},
   "outputs": [
    {
     "data": {
      "text/plain": [
       "Cumpadre('Enzo', Yokohama, None) with main ([WeekTable('October Classes', 2023-10-10 00:00:00, 2023-12-30 00:00:00)]) & unique at (None)"
      ]
     },
     "execution_count": 66,
     "metadata": {},
     "output_type": "execute_result"
    }
   ],
   "source": [
    "import datetime\n",
    "\n",
    "enzo = person(name=\"Enzo\", geo=\"Yokohama\")\n",
    "\n",
    "person.clearTables(enzo)\n",
    "person.addNewTable(enzo, start=datetime.datetime(day=10, month=10, year=2023), end=datetime.datetime(day=30, month=12,year=2023), label=\"October Classes\")\n",
    "\n",
    "enzo"
   ]
  }
 ],
 "metadata": {
  "kernelspec": {
   "display_name": "Python 3",
   "language": "python",
   "name": "python3"
  },
  "language_info": {
   "codemirror_mode": {
    "name": "ipython",
    "version": 3
   },
   "file_extension": ".py",
   "mimetype": "text/x-python",
   "name": "python",
   "nbconvert_exporter": "python",
   "pygments_lexer": "ipython3",
   "version": "3.11.3"
  }
 },
 "nbformat": 4,
 "nbformat_minor": 2
}
