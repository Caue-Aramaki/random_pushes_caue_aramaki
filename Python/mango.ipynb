{
 "cells": [
  {
   "cell_type": "code",
   "execution_count": 44,
   "metadata": {},
   "outputs": [],
   "source": [
    "def mango(qtd, price=0):\n",
    "    if isinstance(qtd, list):\n",
    "        return mango(qtd[0],qtd[1])\n",
    "    else:\n",
    "        if qtd < 3:\n",
    "            return qtd * price\n",
    "        else:\n",
    "            return price*2 + mango(qtd-3, price)"
   ]
  },
  {
   "cell_type": "code",
   "execution_count": 49,
   "metadata": {},
   "outputs": [
    {
     "name": "stdout",
     "output_type": "stream",
     "text": [
      "[6, 6, 12, 30, 273, 240, 696, 248, 444, 266, 440, 350, 612, 224, 418, 234, 440, 289, 256, 140, 988, 112, 252, 348, 660, 650, 525, 345, 468, 513, 275, 512, 160, 182, 520]\n"
     ]
    }
   ],
   "source": [
    "test_case = [\n",
    "    [[2,3],6],\n",
    "    [[3,3],6],\n",
    "    [[5,3],12],\n",
    "    [[9,5],30],\n",
    "    [[10,39],0], \n",
    "    [[23, 15],0], [[36, 29],0], [[12, 31],0], [[18, 37],0], [[10, 38],0], [[30, 22],0], [[14, 35],0], [[26, 34],0], [[11, 28],0], [[33, 19],0],\n",
    "    [[27, 13],0], [[32, 20],0], [[25, 17],0], [[24, 16],0], [[21, 10],0], [[39, 38],0], [[11, 14],0], [[31, 12],0], [[18, 29],0], [[30, 33],0],\n",
    "    [[37, 26],0], [[22, 35],0], [[34, 15],0], [[19, 36],0], [[28, 27],0], [[16, 25],0], [[23, 32],0], [[24, 10],0], [[21, 13],0], [[39, 20],0]\n",
    "    ]\n",
    "\n",
    "output_list = list(map(mango, test_case[::]))\n",
    "print(output_list)"
   ]
  },
  {
   "cell_type": "code",
   "execution_count": 70,
   "metadata": {},
   "outputs": [
    {
     "name": "stdout",
     "output_type": "stream",
     "text": [
      "[6, 6, 12, 30, 273, 240, 696, 248, 444, 266, 440, 350, 612, 224, 418, 234, 440, 289, 256, 140, 988, 112, 252, 348, 660, 650, 525, 345, 468, 513, 275, 512, 160, 182, 520]\n"
     ]
    }
   ],
   "source": [
    "def alternate(qtd, price=0):\n",
    "    if isinstance(qtd, list):\n",
    "        return alternate(qtd[0],qtd[1])\n",
    "    else:\n",
    "        import math\n",
    "        return math.ceil(qtd*(2/3))*price\n",
    "    \n",
    "alt_list = list(map(alternate, test_case[::]))\n",
    "print(alt_list)"
   ]
  }
 ],
 "metadata": {
  "kernelspec": {
   "display_name": "Python 3",
   "language": "python",
   "name": "python3"
  },
  "language_info": {
   "codemirror_mode": {
    "name": "ipython",
    "version": 3
   },
   "file_extension": ".py",
   "mimetype": "text/x-python",
   "name": "python",
   "nbconvert_exporter": "python",
   "pygments_lexer": "ipython3",
   "version": "3.11.3"
  },
  "orig_nbformat": 4
 },
 "nbformat": 4,
 "nbformat_minor": 2
}
