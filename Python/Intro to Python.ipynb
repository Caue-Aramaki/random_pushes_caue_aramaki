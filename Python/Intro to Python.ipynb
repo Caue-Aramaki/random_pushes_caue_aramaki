{
 "cells": [
  {
   "attachments": {},
   "cell_type": "markdown",
   "metadata": {},
   "source": [
    "https://www.kaggle.com/competitions/statoil-iceberg-classifier-challenge/discussion/43538"
   ]
  },
  {
   "cell_type": "code",
   "execution_count": 95,
   "metadata": {},
   "outputs": [],
   "source": [
    "lista = [4003600000000014,\n",
    "378282246310005,\n",
    "371449635398431,\n",
    "378734493671000,\n",
    "30569309025904,\n",
    "6011111111111117,\n",
    "6011000990139424,\n",
    "3530111333300000,\n",
    "3566002020360505,\n",
    "2221000000000009,\n",
    "2223000048400011,\n",
    "2223016768739313,\n",
    "5555555555554444,\n",
    "5105105105105100,\n",
    "4111111111111111,\n",
    "4012888888881881,\n",
    "4222222222222]"
   ]
  },
  {
   "cell_type": "code",
   "execution_count": 106,
   "metadata": {},
   "outputs": [],
   "source": [
    "def processo(num):\n",
    "    if num > 99:\n",
    "        rem = num%100\n",
    "        return processo(rem) + processo((num-rem)/100)\n",
    "    else:\n",
    "        rem = num%10\n",
    "        breh = 2*(num-rem)/10\n",
    "        if breh == 18:\n",
    "            breh = 9\n",
    "        else:\n",
    "            breh = breh%9\n",
    "        return rem + breh"
   ]
  },
  {
   "cell_type": "code",
   "execution_count": 107,
   "metadata": {},
   "outputs": [
    {
     "name": "stdout",
     "output_type": "stream",
     "text": [
      "4003600000000014 20.0\n",
      "378282246310005 60.0\n",
      "371449635398431 80.0\n",
      "378734493671000 60.0\n",
      "30569309025904 50.0\n",
      "6011111111111117 30.0\n",
      "6011000990139424 50.0\n",
      "3530111333300000 40.0\n",
      "3566002020360505 50.0\n",
      "2221000000000009 20.0\n",
      "2223000048400011 40.0\n",
      "2223016768739313 60.0\n",
      "5555555555554444 60.0\n",
      "5105105105105100 20.0\n",
      "4111111111111111 30.0\n",
      "4012888888881881 90.0\n",
      "4222222222222 40.0\n"
     ]
    }
   ],
   "source": [
    "for iterator in lista:\n",
    "  print(iterator, processo(iterator)) "
   ]
  },
  {
   "cell_type": "code",
   "execution_count": 157,
   "metadata": {},
   "outputs": [
    {
     "name": "stdout",
     "output_type": "stream",
     "text": [
      "       #  #\n",
      "      ##  ##\n",
      "     ###  ###\n",
      "    ####  ####\n",
      "   #####  #####\n",
      "  ######  ######\n",
      " #######  #######\n",
      "########  ########\n",
      "\n"
     ]
    }
   ],
   "source": [
    "height = 8\n",
    "texto = \"\"\n",
    "for i in range(0,height):\n",
    "    for j in range(2,i+height+5):\n",
    "        if i+j > height and j <= height+1:\n",
    "            texto = texto + \"#\"\n",
    "        elif j-i < height+5 and j > height + 3:\n",
    "            texto = texto + \"#\"\n",
    "        else:\n",
    "            texto = texto + \" \"\n",
    "    texto = texto + \"\\n\"\n",
    "\n",
    "print(texto)"
   ]
  },
  {
   "cell_type": "code",
   "execution_count": 1,
   "metadata": {},
   "outputs": [
    {
     "data": {
      "text/plain": [
       "('3.11.2 (tags/v3.11.2:878ead1, Feb  7 2023, 16:38:35) [MSC v.1934 64 bit (AMD64)]',\n",
       " sys.version_info(major=3, minor=11, micro=2, releaselevel='final', serial=0))"
      ]
     },
     "execution_count": 1,
     "metadata": {},
     "output_type": "execute_result"
    }
   ],
   "source": [
    "import sys\n",
    "sys.version, sys.version_info"
   ]
  },
  {
   "cell_type": "code",
   "execution_count": 3,
   "metadata": {},
   "outputs": [
    {
     "data": {
      "text/plain": [
       "'2023-03-29 21:29:11'"
      ]
     },
     "execution_count": 3,
     "metadata": {},
     "output_type": "execute_result"
    }
   ],
   "source": [
    "import datetime\n",
    "datetime.datetime.now().strftime(\"%Y-%m-%d %H:%M:%S\")"
   ]
  },
  {
   "cell_type": "code",
   "execution_count": 4,
   "metadata": {},
   "outputs": [
    {
     "name": "stdout",
     "output_type": "stream",
     "text": [
      "9\n"
     ]
    }
   ],
   "source": [
    "from datetime import date\n",
    "f_date = date(2014, 7, 2)\n",
    "l_date = date(2014, 7, 11)\n",
    "delta = l_date - f_date\n",
    "print(delta.days)"
   ]
  }
 ],
 "metadata": {
  "kernelspec": {
   "display_name": "Python 3",
   "language": "python",
   "name": "python3"
  },
  "language_info": {
   "codemirror_mode": {
    "name": "ipython",
    "version": 3
   },
   "file_extension": ".py",
   "mimetype": "text/x-python",
   "name": "python",
   "nbconvert_exporter": "python",
   "pygments_lexer": "ipython3",
   "version": "3.11.2"
  },
  "orig_nbformat": 4
 },
 "nbformat": 4,
 "nbformat_minor": 2
}
