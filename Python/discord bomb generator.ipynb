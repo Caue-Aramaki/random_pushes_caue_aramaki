{
 "cells": [
  {
   "cell_type": "code",
   "execution_count": 160,
   "metadata": {},
   "outputs": [
    {
     "name": "stdout",
     "output_type": "stream",
     "text": [
      "[[0, 0, 0, 0, 0, 0, 0, 1, 1, 1], [0, 0, 0, 0, 0, 1, 1, 2, 'B', 1], [0, 0, 1, 2, 3, 4, 'B', 5, 3, 2], [0, 0, 1, 'B', 'B', 'B', 'B', 'B', 'B', 1], [1, 1, 2, 2, 5, 'B', 'B', 'B', 3, 1], [1, 'B', 1, 1, 3, 'B', 'B', 4, 2, 1], [2, 2, 2, 2, 'B', 4, 2, 2, 'B', 1], [1, 'B', 3, 4, 'B', 3, 1, 2, 2, 2], [1, 3, 'B', 'B', 3, 'B', 2, 2, 'B', 1], [0, 2, 'B', 3, 2, 1, 2, 'B', 3, 2], [0, 2, 2, 2, 1, 2, 3, 4, 'B', 2], [1, 2, 'B', 2, 2, 'B', 'B', 3, 'B', 2], [2, 'B', 4, 'B', 2, 2, 2, 2, 1, 1], [3, 'B', 4, 1, 1, 0, 0, 0, 0, 0], [2, 'B', 3, 1, 0, 1, 2, 3, 2, 1], [1, 2, 'B', 1, 0, 1, 'B', 'B', 'B', 1], [1, 3, 3, 3, 1, 3, 4, 'B', 4, 2], [1, 'B', 'B', 5, 'B', 4, 'B', 3, 'B', 1], [1, 3, 'B', 'B', 'B', 'B', 2, 2, 1, 1], [0, 1, 2, 3, 3, 2, 1, 0, 0, 0]]\n",
      "This minefield program has been supported by ChatGPT.\n",
      "||:black_large_square:|| ||:black_large_square:|| ||:black_large_square:|| ||:black_large_square:|| ||:black_large_square:|| ||:black_large_square:|| ||:black_large_square:|| ||:one:|| ||:one:|| ||:one:||\n",
      "||:black_large_square:|| ||:black_large_square:|| ||:black_large_square:|| ||:black_large_square:|| ||:black_large_square:|| ||:one:|| ||:one:|| ||:two:|| ||:bomb:|| ||:one:||\n",
      "||:black_large_square:|| ||:black_large_square:|| ||:one:|| ||:two:|| ||:three:|| ||:four:|| ||:bomb:|| ||:five:|| ||:three:|| ||:two:||\n",
      "||:black_large_square:|| ||:black_large_square:|| ||:one:|| ||:bomb:|| ||:bomb:|| ||:bomb:|| ||:bomb:|| ||:bomb:|| ||:bomb:|| ||:one:||\n",
      "||:one:|| ||:one:|| ||:two:|| ||:two:|| ||:five:|| ||:bomb:|| ||:bomb:|| ||:bomb:|| ||:three:|| ||:one:||\n",
      "||:one:|| ||:bomb:|| ||:one:|| ||:one:|| ||:three:|| ||:bomb:|| ||:bomb:|| ||:four:|| ||:two:|| ||:one:||\n",
      "||:two:|| ||:two:|| ||:two:|| ||:two:|| ||:bomb:|| ||:four:|| ||:two:|| ||:two:|| ||:bomb:|| ||:one:||\n",
      "||:one:|| ||:bomb:|| ||:three:|| ||:four:|| ||:bomb:|| ||:three:|| ||:one:|| ||:two:|| ||:two:|| ||:two:||\n",
      "||:one:|| ||:three:|| ||:bomb:|| ||:bomb:|| ||:three:|| ||:bomb:|| ||:two:|| ||:two:|| ||:bomb:|| ||:one:||\n",
      "||:black_large_square:|| ||:two:|| ||:bomb:|| ||:three:|| ||:two:|| ||:one:|| ||:two:|| ||:bomb:|| ||:three:|| ||:two:||\n",
      "||:black_large_square:|| ||:two:|| ||:two:|| ||:two:|| ||:one:|| ||:two:|| ||:three:|| ||:four:|| ||:bomb:|| ||:two:||\n",
      "||:one:|| ||:two:|| ||:bomb:|| ||:two:|| ||:two:|| ||:bomb:|| ||:bomb:|| ||:three:|| ||:bomb:|| ||:two:||\n",
      "||:two:|| ||:bomb:|| ||:four:|| ||:bomb:|| ||:two:|| ||:two:|| ||:two:|| ||:two:|| ||:one:|| ||:one:||\n",
      "||:three:|| ||:bomb:|| ||:four:|| ||:one:|| ||:one:|| ||:black_large_square:|| ||:black_large_square:|| ||:black_large_square:|| ||:black_large_square:|| ||:black_large_square:||\n",
      "||:two:|| ||:bomb:|| ||:three:|| ||:one:|| ||:black_large_square:|| ||:one:|| ||:two:|| ||:three:|| ||:two:|| ||:one:||\n",
      "||:one:|| ||:two:|| ||:bomb:|| ||:one:|| ||:black_large_square:|| ||:one:|| ||:bomb:|| ||:bomb:|| ||:bomb:|| ||:one:||\n",
      "||:one:|| ||:three:|| ||:three:|| ||:three:|| ||:one:|| ||:three:|| ||:four:|| ||:bomb:|| ||:four:|| ||:two:||\n",
      "||:one:|| ||:bomb:|| ||:bomb:|| ||:five:|| ||:bomb:|| ||:four:|| ||:bomb:|| ||:three:|| ||:bomb:|| ||:one:||\n",
      "||:one:|| ||:three:|| ||:bomb:|| ||:bomb:|| ||:bomb:|| ||:bomb:|| ||:two:|| ||:two:|| ||:one:|| ||:one:||\n",
      "||:black_large_square:|| ||:one:|| ||:two:|| ||:three:|| ||:three:|| ||:two:|| ||:one:|| ||:black_large_square:|| ||:black_large_square:|| ||:black_large_square:||\n"
     ]
    }
   ],
   "source": [
    "import random\n",
    "import math\n",
    "\n",
    "# Set a seed for reproducibility\n",
    "random.seed(69)\n",
    "\n",
    "# Define the dimensions and mine density\n",
    "columns = 10\n",
    "rows = 20\n",
    "density = 0.3  # Adjusted to 0.2\n",
    "\n",
    "# Define Discord emoji representations\n",
    "emojis = {\n",
    "    0: \"||:black_large_square:||\",\n",
    "    1: \"||:one:||\",\n",
    "    2: \"||:two:||\",\n",
    "    3: \"||:three:||\",\n",
    "    4: \"||:four:||\",\n",
    "    5: \"||:five:||\",\n",
    "    6: \"||:six:||\",\n",
    "    7: \"||:seven:||\",\n",
    "    8: \"||:eight:||\",\n",
    "    \"B\": \"||:bomb:||\",\n",
    "}\n",
    "\n",
    "# Initialize the board with mines\n",
    "board = [[0 if random.random() > density else \"B\" for i in range(columns)] for j in range(rows)]\n",
    "\n",
    "# Create a minefield with counts of neighboring mines\n",
    "minefield = [[0 for i in range(columns)] for j in range(rows)]\n",
    "\n",
    "# Iterate over the dimensions of the board\n",
    "for i in range(1, rows-1):\n",
    "    for j in range(1, columns-1):\n",
    "        if board[i][j] == \"B\":\n",
    "            for x in range(-1, 2):\n",
    "                for y in range(-1, 2):\n",
    "                    if isinstance(minefield[i + x][j + y], int):\n",
    "                        minefield[i + x][j + y] += 1\n",
    "            minefield[i][j] = \"B\"\n",
    "\n",
    "# Format the minefield for display using emojis\n",
    "formatted_minefield = \"\\n\".join(\" \".join(emojis[cell] for cell in row) for row in minefield)\n",
    "\n",
    "# Disclaimer\n",
    "disclaimer = \"This minefield program has been supported by ChatGPT.\\n\"\n",
    "\n",
    "# Print or send the minefield as a message\n",
    "print(minefield)\n",
    "print(disclaimer + formatted_minefield)  # You can modify this part as needed\n"
   ]
  }
 ],
 "metadata": {
  "kernelspec": {
   "display_name": "Python 3",
   "language": "python",
   "name": "python3"
  },
  "language_info": {
   "codemirror_mode": {
    "name": "ipython",
    "version": 3
   },
   "file_extension": ".py",
   "mimetype": "text/x-python",
   "name": "python",
   "nbconvert_exporter": "python",
   "pygments_lexer": "ipython3",
   "version": "3.11.3"
  },
  "orig_nbformat": 4
 },
 "nbformat": 4,
 "nbformat_minor": 2
}
